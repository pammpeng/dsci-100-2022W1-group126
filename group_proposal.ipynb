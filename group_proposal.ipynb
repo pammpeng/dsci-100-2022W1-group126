{
 "cells": [
  {
   "cell_type": "code",
   "execution_count": null,
   "id": "292aa6b9-3410-4670-b510-89b0c8fa14d7",
   "metadata": {},
   "outputs": [],
   "source": []
  }
 ],
 "metadata": {
  "kernelspec": {
   "display_name": "R",
   "language": "R",
   "name": "ir"
  },
  "language_info": {
   "codemirror_mode": "r",
   "file_extension": ".r",
   "mimetype": "text/x-r-source",
   "name": "R",
   "pygments_lexer": "r",
   "version": "4.1.3"
  }
 },
 "nbformat": 4,
 "nbformat_minor": 5
}
