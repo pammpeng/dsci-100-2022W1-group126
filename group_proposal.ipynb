{
 "cells": [
  {
   "cell_type": "markdown",
   "id": "8e23031f-ff76-4be2-a30d-9c4163047e5e",
   "metadata": {},
   "source": [
    "Group 126- Project Proposal"
   ]
  },
  {
   "cell_type": "code",
   "execution_count": null,
   "id": "c2f5ba02-7614-4035-9380-f2c53a8f3de3",
   "metadata": {},
   "outputs": [],
   "source": []
  }
 ],
 "metadata": {
  "kernelspec": {
   "display_name": "R",
   "language": "R",
   "name": "ir"
  },
  "language_info": {
   "codemirror_mode": "r",
   "file_extension": ".r",
   "mimetype": "text/x-r-source",
   "name": "R",
   "pygments_lexer": "r",
   "version": "4.1.3"
  }
 },
 "nbformat": 4,
 "nbformat_minor": 5
}
